{
 "cells": [
  {
   "cell_type": "code",
   "execution_count": 5,
   "id": "3a963102",
   "metadata": {},
   "outputs": [],
   "source": [
    "import pandas as pd\n",
    "salaries = pd.read_csv(\"salaries.csv\")#read csv to dataframe and copy"
   ]
  },
  {
   "cell_type": "code",
   "execution_count": 6,
   "id": "5578c818",
   "metadata": {},
   "outputs": [],
   "source": [
    "salaries2 = pd.read_csv(\"salaries.csv\", index_col = 3, header = 0 ,skiprows=[1])\n",
    "# Make the column playerID in the csv file as the index column and the first row as the header.\n",
    "# Also, skip the second row when reading the file."
   ]
  },
  {
   "cell_type": "code",
   "execution_count": 9,
   "id": "383d9fe4",
   "metadata": {},
   "outputs": [],
   "source": [
    "salaries3 = salaries2[(salaries2['teamID'] == 'ATL')|(salaries2['teamID'] == 'HOU')\n",
    "          &(salaries2['salary'] >1000000)]\n",
    "#Select the id of the players who are registered in ATL and HOU \n",
    "#whose salary is higher than one million."
   ]
  },
  {
   "cell_type": "code",
   "execution_count": 59,
   "id": "d6000aea",
   "metadata": {},
   "outputs": [
    {
     "name": "stdout",
     "output_type": "stream",
     "text": [
      "       yearID teamID lgID   playerID    salary\n",
      "0        1985    ATL   NL  barkele01    870000\n",
      "1        1985    ATL   NL  bedrost01    550000\n",
      "2        1985    ATL   NL  benedbr01    545000\n",
      "3        1985    ATL   NL   campri01    633333\n",
      "4        1985    ATL   NL  ceronri01    625000\n",
      "...       ...    ...  ...        ...       ...\n",
      "25570    2015    WAS   NL  treinbl01    512800\n",
      "25571    2015    WAS   NL  ugglada01    507500\n",
      "25572    2015    WAS   NL  werthja01  21000000\n",
      "25573    2015    WAS   NL  zimmejo02  16500000\n",
      "25574    2015    WAS   NL  zimmery01  14000000\n",
      "\n",
      "[25575 rows x 5 columns]\n"
     ]
    }
   ],
   "source": []
  },
  {
   "cell_type": "code",
   "execution_count": null,
   "id": "fb7c681b",
   "metadata": {},
   "outputs": [],
   "source": []
  }
 ],
 "metadata": {
  "kernelspec": {
   "display_name": "Python 3",
   "language": "python",
   "name": "python3"
  },
  "language_info": {
   "codemirror_mode": {
    "name": "ipython",
    "version": 3
   },
   "file_extension": ".py",
   "mimetype": "text/x-python",
   "name": "python",
   "nbconvert_exporter": "python",
   "pygments_lexer": "ipython3",
   "version": "3.8.8"
  }
 },
 "nbformat": 4,
 "nbformat_minor": 5
}
